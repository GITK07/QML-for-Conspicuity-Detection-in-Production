{
  "nbformat": 4,
  "nbformat_minor": 0,
  "metadata": {
    "colab": {
      "provenance": []
    },
    "kernelspec": {
      "name": "python3",
      "display_name": "Python 3"
    },
    "language_info": {
      "name": "python"
    }
  },
  "cells": [
    {
      "cell_type": "markdown",
      "source": [
        "                                                    \n",
        "                                                    \n",
        "                                                     \n",
        "                                                      \n",
        "                                                       \n",
        "                                                        Fraunhofer <> Womanium"
      ],
      "metadata": {
        "id": "8qvKHbUzM9hY"
      }
    },
    {
      "cell_type": "markdown",
      "source": [
        "# **Quantum Machine Learning for Conspicuity Detection in Production**"
      ],
      "metadata": {
        "id": "X1k29uqhF96x"
      }
    },
    {
      "cell_type": "markdown",
      "source": [
        "The project focuses on conspicuity detection in production, which makes it\n",
        "possible to identify improvement measures for individual work steps or\n",
        "sub-processes at an early stage and thus optimize the production process. To do\n",
        "this, we analyze process data such as image data or time series to uncover\n",
        "deviations and weak points in production. Classical methods for analyzing such\n",
        "data are very time-consuming.\n",
        "Therefore, our project attempts to explore the potential of hybrid quantum\n",
        "computing in accelerating this process. Our primary focus lies in implementing\n",
        "the necessary hybrid quantum algorithms and rigorously benchmarking them\n",
        "against classical approaches, including machine learning and statistical\n",
        "methods.\n",
        "\n"
      ],
      "metadata": {
        "id": "GBbW8YMWHmCt"
      }
    },
    {
      "cell_type": "code",
      "source": [
        "pip install pennylane"
      ],
      "metadata": {
        "colab": {
          "base_uri": "https://localhost:8080/"
        },
        "id": "xoGXNY63DdkA",
        "outputId": "f926b2d5-ecca-4bc9-e8e9-7f09f2c8aaf6"
      },
      "execution_count": null,
      "outputs": [
        {
          "output_type": "stream",
          "name": "stdout",
          "text": [
            "Collecting pennylane\n",
            "  Downloading PennyLane-0.37.0-py3-none-any.whl (1.8 MB)\n",
            "\u001b[2K     \u001b[90m━━━━━━━━━━━━━━━━━━━━━━━━━━━━━━━━━━━━━━━━\u001b[0m \u001b[32m1.8/1.8 MB\u001b[0m \u001b[31m17.7 MB/s\u001b[0m eta \u001b[36m0:00:00\u001b[0m\n",
            "\u001b[?25hRequirement already satisfied: numpy<2.0 in /usr/local/lib/python3.10/dist-packages (from pennylane) (1.25.2)\n",
            "Requirement already satisfied: scipy in /usr/local/lib/python3.10/dist-packages (from pennylane) (1.11.4)\n",
            "Requirement already satisfied: networkx in /usr/local/lib/python3.10/dist-packages (from pennylane) (3.3)\n",
            "Collecting rustworkx (from pennylane)\n",
            "  Downloading rustworkx-0.15.1-cp38-abi3-manylinux_2_17_x86_64.manylinux2014_x86_64.whl (2.0 MB)\n",
            "\u001b[2K     \u001b[90m━━━━━━━━━━━━━━━━━━━━━━━━━━━━━━━━━━━━━━━━\u001b[0m \u001b[32m2.0/2.0 MB\u001b[0m \u001b[31m61.1 MB/s\u001b[0m eta \u001b[36m0:00:00\u001b[0m\n",
            "\u001b[?25hRequirement already satisfied: autograd in /usr/local/lib/python3.10/dist-packages (from pennylane) (1.6.2)\n",
            "Requirement already satisfied: toml in /usr/local/lib/python3.10/dist-packages (from pennylane) (0.10.2)\n",
            "Collecting appdirs (from pennylane)\n",
            "  Downloading appdirs-1.4.4-py2.py3-none-any.whl (9.6 kB)\n",
            "Collecting semantic-version>=2.7 (from pennylane)\n",
            "  Downloading semantic_version-2.10.0-py2.py3-none-any.whl (15 kB)\n",
            "Collecting autoray>=0.6.11 (from pennylane)\n",
            "  Downloading autoray-0.6.12-py3-none-any.whl (50 kB)\n",
            "\u001b[2K     \u001b[90m━━━━━━━━━━━━━━━━━━━━━━━━━━━━━━━━━━━━━━━━\u001b[0m \u001b[32m51.0/51.0 kB\u001b[0m \u001b[31m5.1 MB/s\u001b[0m eta \u001b[36m0:00:00\u001b[0m\n",
            "\u001b[?25hRequirement already satisfied: cachetools in /usr/local/lib/python3.10/dist-packages (from pennylane) (5.3.3)\n",
            "Collecting pennylane-lightning>=0.37 (from pennylane)\n",
            "  Downloading PennyLane_Lightning-0.37.0-cp310-cp310-manylinux_2_28_x86_64.whl (15.5 MB)\n",
            "\u001b[2K     \u001b[90m━━━━━━━━━━━━━━━━━━━━━━━━━━━━━━━━━━━━━━━━\u001b[0m \u001b[32m15.5/15.5 MB\u001b[0m \u001b[31m15.4 MB/s\u001b[0m eta \u001b[36m0:00:00\u001b[0m\n",
            "\u001b[?25hRequirement already satisfied: requests in /usr/local/lib/python3.10/dist-packages (from pennylane) (2.31.0)\n",
            "Requirement already satisfied: typing-extensions in /usr/local/lib/python3.10/dist-packages (from pennylane) (4.12.2)\n",
            "Requirement already satisfied: packaging in /usr/local/lib/python3.10/dist-packages (from pennylane) (24.1)\n",
            "Requirement already satisfied: future>=0.15.2 in /usr/local/lib/python3.10/dist-packages (from autograd->pennylane) (0.18.3)\n",
            "Requirement already satisfied: charset-normalizer<4,>=2 in /usr/local/lib/python3.10/dist-packages (from requests->pennylane) (3.3.2)\n",
            "Requirement already satisfied: idna<4,>=2.5 in /usr/local/lib/python3.10/dist-packages (from requests->pennylane) (3.7)\n",
            "Requirement already satisfied: urllib3<3,>=1.21.1 in /usr/local/lib/python3.10/dist-packages (from requests->pennylane) (2.0.7)\n",
            "Requirement already satisfied: certifi>=2017.4.17 in /usr/local/lib/python3.10/dist-packages (from requests->pennylane) (2024.7.4)\n",
            "Installing collected packages: appdirs, semantic-version, rustworkx, autoray, pennylane-lightning, pennylane\n",
            "Successfully installed appdirs-1.4.4 autoray-0.6.12 pennylane-0.37.0 pennylane-lightning-0.37.0 rustworkx-0.15.1 semantic-version-2.10.0\n"
          ]
        }
      ]
    },
    {
      "cell_type": "code",
      "source": [
        "import pennylane as qml\n",
        "from pennylane import numpy as np"
      ],
      "metadata": {
        "id": "9ePAQsFRLVN1"
      },
      "execution_count": null,
      "outputs": []
    },
    {
      "cell_type": "markdown",
      "source": [
        "**All About Qubits**"
      ],
      "metadata": {
        "id": "ujJlw7wdIyjq"
      }
    },
    {
      "cell_type": "markdown",
      "source": [
        "Qubits refer to the Quantum Bits that are the fundamental component of a Quantum Computer analogous to the Bits in a Classical Computer. These Qubits handle all the computation, in mathematical terms a Qbit can be seen as a vector consisting of states in which it can be measured or observed along with their probabilities of being in them. In this codercise of Pennylane Codebook, One can learn about Qubits, their normalization, properties and finally apply them to create a simple Quantum Algorithm."
      ],
      "metadata": {
        "id": "EXvkg6SNJsr4"
      }
    },
    {
      "cell_type": "markdown",
      "source": [
        "We start with the Normalization of Qubit Vector States. Since these state vectors are associated with a probability of the Qubit being in that state"
      ],
      "metadata": {
        "id": "j-imzg0QKx-N"
      }
    },
    {
      "cell_type": "code",
      "source": [
        "#Codercise l.1.1\n",
        "\n",
        "# Here are the vector representations of |0> and |1>, for convenience\n",
        "ket_0 = np.array([1, 0])\n",
        "ket_1 = np.array([0, 1])\n",
        "\n",
        "\n",
        "def normalize_state(alpha, beta):\n",
        "    \"\"\"Compute a normalized quantum state given arbitrary amplitudes.\n",
        "\n",
        "    Args:\n",
        "        alpha (complex): The amplitude associated with the |0> state.\n",
        "        beta (complex): The amplitude associated with the |1> state.\n",
        "\n",
        "    Returns:\n",
        "        np.array[complex]: A vector (numpy array) with 2 elements that represents\n",
        "        a normalized quantum state.\n",
        "    \"\"\"\n",
        "\n",
        "\n",
        "\n",
        "    ##################\n",
        "\n",
        "    factor = np.sqrt(((np.abs(alpha))**2)+((np.abs(beta))**2))\n",
        "\n",
        "    ##################\n",
        "\n",
        "    # CREATE A VECTOR [a', b'] BASED ON alpha AND beta SUCH THAT |a'|^2 + |b'|^2 = 1\n",
        "\n",
        "    norm_vector = (1/factor)*np.array([alpha,beta])\n",
        "\n",
        "    # RETURN A VECTOR\n",
        "\n",
        "    return norm_vector\n",
        "    pass\n",
        "\n",
        "print(normalize_state(1,1))\n"
      ],
      "metadata": {
        "id": "kIcgWanuHYpv",
        "colab": {
          "base_uri": "https://localhost:8080/"
        },
        "outputId": "3a96ab28-9cf0-4e93-82da-12d7d6b7efbf"
      },
      "execution_count": null,
      "outputs": [
        {
          "output_type": "stream",
          "name": "stdout",
          "text": [
            "[0.70710678 0.70710678]\n"
          ]
        }
      ]
    },
    {
      "cell_type": "code",
      "source": [
        "#Codercise l.1.2\n",
        "\n",
        "def inner_product(state_1, state_2):\n",
        "    \"\"\"Compute the inner product between two states.\n",
        "\n",
        "    Args:\n",
        "        state_1 (np.array[complex]): A normalized quantum state vector\n",
        "        state_2 (np.array[complex]): A second normalized quantum state vector\n",
        "\n",
        "    Returns:\n",
        "        complex: The value of the inner product <state_1 | state_2>.\n",
        "    \"\"\"\n",
        "\n",
        "    ##################\n",
        "\n",
        "    #YOUR CODE HERE\n",
        "\n",
        "    ##################\n",
        "\n",
        "    # COMPUTE AND RETURN THE INNER PRODUCT\n",
        "    product = np.conj(state_1[0]*state_2[0] + np.conj(state_1[1]*state_2[1]))\n",
        "    return product\n",
        "\n",
        "\n",
        "# Test your results with this code\n",
        "ket_0 = np.array([1, 0])\n",
        "ket_1 = np.array([0, 1])\n",
        "\n",
        "print(f\"<0|0> = {inner_product(ket_0, ket_0)}\")\n",
        "print(f\"<0|1> = {inner_product(ket_0, ket_1)}\")\n",
        "print(f\"<1|0> = {inner_product(ket_1, ket_0)}\")\n",
        "print(f\"<1|1> = {inner_product(ket_1, ket_1)}\")\n"
      ],
      "metadata": {
        "id": "AABN3-ToIcbm"
      },
      "execution_count": null,
      "outputs": []
    },
    {
      "cell_type": "code",
      "source": [
        "#Codercise l.1.3\n",
        "\n",
        "def measure_state(state, num_meas):\n",
        "    \"\"\"Simulate a quantum measurement process.\n",
        "\n",
        "    Args:\n",
        "        state (np.array[complex]): A normalized qubit state vector.\n",
        "        num_meas (int): The number of measurements to take\n",
        "\n",
        "    Returns:\n",
        "        np.array[int]: A set of num_meas samples, 0 or 1, chosen according to the probability\n",
        "        distribution defined by the input state.\n",
        "    \"\"\"\n",
        "\n",
        "    ##################\n",
        "\n",
        "    p1 = np.abs(state[0]**2)\n",
        "    p2 = np.abs(state[1]**2)\n",
        "    return np.random.choice(np.array([0,1]), num_meas, p = [p1,p2])\n",
        "\n",
        "    ##################\n",
        "\n",
        "    # COMPUTE THE MEASUREMENT OUTCOME PROBABILITIES\n",
        "\n",
        "    # RETURN A LIST OF SAMPLE MEASUREMENT OUTCOMES\n",
        "\n",
        "    pass\n"
      ],
      "metadata": {
        "id": "cRYV_4WkIjuI"
      },
      "execution_count": null,
      "outputs": []
    },
    {
      "cell_type": "code",
      "source": [
        "#Codercise l.1.4\n",
        "\n",
        "U = np.array([[1, 1], [1, -1]]) / np.sqrt(2)\n",
        "\n",
        "\n",
        "def apply_u(state):\n",
        "    \"\"\"Apply a quantum operation.\n",
        "\n",
        "    Args:\n",
        "        state (np.array[complex]): A normalized quantum state vector.\n",
        "\n",
        "    Returns:\n",
        "        np.array[complex]: The output state after applying U.\n",
        "    \"\"\"\n",
        "\n",
        "    ##################\n",
        "\n",
        "    return np.array([U[0][0]*state[0]+U[0][1]*state[1], U[1][0]*state[0]+U[1][1]*state[1]])\n",
        "\n",
        "    ##################\n",
        "\n",
        "    # APPLY U TO THE INPUT STATE AND RETURN THE NEW STATE\n",
        "    pass\n"
      ],
      "metadata": {
        "id": "Dck89CDUItde"
      },
      "execution_count": null,
      "outputs": []
    },
    {
      "cell_type": "code",
      "source": [
        "#Codercise l.1.5\n",
        "\n",
        "U = np.array([[1, 1], [1, -1]]) / np.sqrt(2)\n",
        "\n",
        "\n",
        "def initialize_state():\n",
        "    \"\"\"Prepare a qubit in state |0>.\n",
        "\n",
        "    Returns:\n",
        "        np.array[float]: the vector representation of state |0>.\n",
        "    \"\"\"\n",
        "\n",
        "    ##################\n",
        "    return np.array([1,0])\n",
        "    ##################\n",
        "\n",
        "    # PREPARE THE STATE |0>\n",
        "    pass\n",
        "\n",
        "\n",
        "def apply_u(state):\n",
        "    \"\"\"Apply a quantum operation.\"\"\"\n",
        "    return np.dot(U, state)\n",
        "\n",
        "\n",
        "def measure_state(state, num_meas):\n",
        "    \"\"\"Measure a quantum state num_meas times.\"\"\"\n",
        "    p_alpha = np.abs(state[0]) ** 2\n",
        "    p_beta = np.abs(state[1]) ** 2\n",
        "    meas_outcome = np.random.choice([0, 1], p=[p_alpha, p_beta], size=num_meas)\n",
        "    return meas_outcome\n",
        "\n",
        "\n",
        "def quantum_algorithm():\n",
        "    \"\"\"Use the functions above to implement the quantum algorithm described above.\n",
        "\n",
        "    Try and do so using three lines of code or less!\n",
        "\n",
        "    Returns:\n",
        "        np.array[int]: the measurement results after running the algorithm 100 times\n",
        "    \"\"\"\n",
        "\n",
        "    ##################\n",
        "\n",
        "    state =  np.matmul(U,initialize_state())\n",
        "    return measure_state(state , 100)\n",
        "\n",
        "    ##################\n",
        "\n",
        "    # PREPARE THE STATE, APPLY U, THEN TAKE 100 MEASUREMENT SAMPLES\n",
        "    pass\n"
      ],
      "metadata": {
        "id": "EmKoes_NIuUg"
      },
      "execution_count": null,
      "outputs": []
    },
    {
      "cell_type": "markdown",
      "source": [
        "**Single Qubit Gates**"
      ],
      "metadata": {
        "id": "rZ01YYjnERjy"
      }
    },
    {
      "cell_type": "code",
      "source": [
        "dev = qml.device(\"default.qubit\", wires=1)\n",
        "\n",
        "U = np.array([[1, 1], [1, -1]]) / np.sqrt(2)\n",
        "\n",
        "\n",
        "@qml.qnode(dev)\n",
        "def varied_initial_state(state):\n",
        "    \"\"\"Complete the function such that we can apply the operation U to\n",
        "    either |0> or |1> depending on the input argument flag.\n",
        "\n",
        "    Args:\n",
        "        state (int): Either 0 or 1. If 1, prepare the qubit in state |1>,\n",
        "            otherwise, leave it in state 0.\n",
        "\n",
        "    Returns:\n",
        "        np.array[complex]: The state of the qubit after the operations.\n",
        "    \"\"\"\n",
        "    ##################\n",
        "\n",
        "    if state == 1:\n",
        "        qml.PauliX(wires = 0)\n",
        "    qml.QubitUnitary(U,wires = 0)\n",
        "\n",
        "    ##################\n",
        "\n",
        "    # KEEP THE QUBIT IN |0> OR CHANGE IT TO |1> DEPENDING ON THE state PARAMETER\n",
        "\n",
        "    # APPLY U TO THE STATE\n",
        "\n",
        "    return qml.state()\n"
      ],
      "metadata": {
        "id": "VdkGV_ysERPD"
      },
      "execution_count": null,
      "outputs": []
    },
    {
      "cell_type": "code",
      "source": [
        "dev = qml.device(\"default.qubit\", wires=1)\n",
        "\n",
        "\n",
        "@qml.qnode(dev)\n",
        "def apply_hadamard():\n",
        "    ##################\n",
        "    qml.Hadamard(wires = 0)\n",
        "    ##################\n",
        "\n",
        "    # APPLY THE HADAMARD GATE\n",
        "\n",
        "    # RETURN THE STATE\n",
        "    return qml.state()\n"
      ],
      "metadata": {
        "id": "ReuV4XRGEmF1"
      },
      "execution_count": null,
      "outputs": []
    },
    {
      "cell_type": "code",
      "source": [
        "dev = qml.device(\"default.qubit\", wires=1)\n",
        "\n",
        "\n",
        "@qml.qnode(dev)\n",
        "def apply_hadamard_to_state(state):\n",
        "    \"\"\"Complete the function such that we can apply the Hadamard to\n",
        "    either |0> or |1> depending on the input argument flag.\n",
        "\n",
        "    Args:\n",
        "        state (int): Either 0 or 1. If 1, prepare the qubit in state |1>,\n",
        "            otherwise, leave it in state 0.\n",
        "\n",
        "    Returns:\n",
        "        np.array[complex]: The state of the qubit after the operations.\n",
        "    \"\"\"\n",
        "    ##################\n",
        "\n",
        "    if state == 1:\n",
        "        qml.PauliX(wires = 0)\n",
        "    qml.Hadamard(wires = 0)\n",
        "\n",
        "    ##################\n",
        "\n",
        "    # KEEP THE QUBIT IN |0> OR CHANGE IT TO |1> DEPENDING ON state\n",
        "\n",
        "    # APPLY THE HADAMARD\n",
        "\n",
        "    # RETURN THE STATE\n",
        "\n",
        "    return qml.state()\n",
        "\n",
        "\n",
        "print(apply_hadamard_to_state(0))\n",
        "print(apply_hadamard_to_state(1))\n"
      ],
      "metadata": {
        "id": "l9_caInkEp40"
      },
      "execution_count": null,
      "outputs": []
    },
    {
      "cell_type": "code",
      "source": [
        "##################\n",
        "\n",
        "#H-X-H\n",
        "\n",
        "##################\n",
        "\n",
        "# CREATE A DEVICE\n",
        "dev = qml.device(\"default.qubit\", wires = 1)\n",
        "@qml.qnode(dev)\n",
        "\n",
        "# CREATE A QNODE CALLED apply_hxh THAT APPLIES THE CIRCUIT ABOVE\n",
        "def apply_hxh(state):\n",
        "    if state == 1:\n",
        "        qml.PauliX(wires = 0)\n",
        "    qml.Hadamard(wires = 0)\n",
        "    qml.PauliX(wires = 0)\n",
        "    qml.Hadamard(wires = 0)\n",
        "    return qml.state()\n",
        "\n",
        "# Print your results\n",
        "print(apply_hxh(0))\n",
        "print(apply_hxh(1))\n"
      ],
      "metadata": {
        "id": "eS58J9TeEsj3"
      },
      "execution_count": null,
      "outputs": []
    },
    {
      "cell_type": "markdown",
      "source": [
        "It's Just a Phase"
      ],
      "metadata": {
        "id": "MOZi8OAeFCqg"
      }
    },
    {
      "cell_type": "code",
      "source": [
        "dev = qml.device(\"default.qubit\", wires=1)\n",
        "\n",
        "\n",
        "@qml.qnode(dev)\n",
        "def apply_z_to_plus():\n",
        "    \"\"\"Write a circuit that applies PauliZ to the |+> state and returns\n",
        "    the state.\n",
        "\n",
        "    Returns:\n",
        "        np.array[complex]: The state of the qubit after the operations.\n",
        "    \"\"\"\n",
        "\n",
        "    ##################\n",
        "    state = np.array([0])\n",
        "    ##################\n",
        "\n",
        "    # CREATE THE |+> STATE\n",
        "    qml.Hadamard(wires = 0)\n",
        "\n",
        "    # APPLY PAULI Z\n",
        "    qml.PauliZ(wires = 0)\n",
        "\n",
        "    # RETURN THE STATE\n",
        "    return qml.state()\n",
        "\n",
        "\n",
        "print(apply_z_to_plus())\n"
      ],
      "metadata": {
        "id": "geQFn3aRFD1V"
      },
      "execution_count": null,
      "outputs": []
    },
    {
      "cell_type": "code",
      "source": [
        "dev = qml.device(\"default.qubit\", wires=1)\n",
        "\n",
        "\n",
        "@qml.qnode(dev)\n",
        "def fake_z():\n",
        "    \"\"\"Use RZ to produce the same action as Pauli Z on the |+> state.\n",
        "\n",
        "    Returns:\n",
        "        np.array[complex]: The state of the qubit after the operations.\n",
        "    \"\"\"\n",
        "\n",
        "    ##################\n",
        "    # YOUR CODE HERE #\n",
        "    ##################\n",
        "\n",
        "    # CREATE THE |+> STATE\n",
        "    qml.Hadamard(wires = 0)\n",
        "\n",
        "    # APPLY RZ\n",
        "    qml.RZ( np.pi, wires = 0)\n",
        "\n",
        "    # RETURN THE STATE\n",
        "    return qml.state()\n"
      ],
      "metadata": {
        "id": "xWgaESidFGrs"
      },
      "execution_count": null,
      "outputs": []
    },
    {
      "cell_type": "code",
      "source": [
        "dev = qml.device(\"default.qubit\", wires=1)\n",
        "\n",
        "\n",
        "@qml.qnode(dev)\n",
        "def many_rotations():\n",
        "    \"\"\"Implement the circuit depicted above and return the quantum state.\n",
        "\n",
        "    Returns:\n",
        "        np.array[complex]: The state of the qubit after the operations.\n",
        "    \"\"\"\n",
        "\n",
        "    ##################\n",
        "    # YOUR CODE HERE #\n",
        "    ##################\n",
        "\n",
        "    # IMPLEMENT THE CIRCUIT\n",
        "    qml.Hadamard(wires = 0)\n",
        "    qml.S(wires = 0)\n",
        "    qml.adjoint(qml.T)(wires = 0)\n",
        "    qml.RZ(0.3, wires = 0)\n",
        "    qml.adjoint(qml.S(wires = 0))\n",
        "\n",
        "    # RETURN THE STATE\n",
        "\n",
        "    return qml.state()\n"
      ],
      "metadata": {
        "id": "bctIvEZSIb4k"
      },
      "execution_count": null,
      "outputs": []
    },
    {
      "cell_type": "markdown",
      "source": [
        "From a Different Angle"
      ],
      "metadata": {
        "id": "TzDkuuUeJrJH"
      }
    },
    {
      "cell_type": "code",
      "source": [
        "dev = qml.device(\"default.qubit\", wires=1)\n",
        "\n",
        "\n",
        "@qml.qnode(dev)\n",
        "def apply_rx_pi(state):\n",
        "    \"\"\"Apply an RX gate with an angle of \\pi to a particular basis state.\n",
        "\n",
        "    Args:\n",
        "        state (int): Either 0 or 1. If 1, initialize the qubit to state |1>\n",
        "            before applying other operations.\n",
        "\n",
        "    Returns:\n",
        "        np.array[complex]: The state of the qubit after the operations.\n",
        "    \"\"\"\n",
        "    if state == 1:\n",
        "        qml.PauliX(wires=0)\n",
        "\n",
        "    ##################\n",
        "    # YOUR CODE HERE #\n",
        "    ##################\n",
        "\n",
        "    # APPLY RX(pi) AND RETURN THE STATE\n",
        "    qml.RX(np.pi, wires = 0)\n",
        "\n",
        "    return qml.state()\n",
        "\n",
        "\n",
        "print(apply_rx_pi(0))\n",
        "print(apply_rx_pi(1))\n"
      ],
      "metadata": {
        "id": "U2d3YpAdJt3i"
      },
      "execution_count": null,
      "outputs": []
    },
    {
      "cell_type": "code",
      "source": [
        "dev = qml.device(\"default.qubit\", wires=1)\n",
        "\n",
        "\n",
        "@qml.qnode(dev)\n",
        "def apply_rx(theta, state):\n",
        "    \"\"\"Apply an RX gate with an angle of theta to a particular basis state.\n",
        "\n",
        "    Args:\n",
        "        theta (float): A rotation angle.\n",
        "        state (int): Either 0 or 1. If 1, initialize the qubit to state |1>\n",
        "            before applying other operations.\n",
        "\n",
        "    Returns:\n",
        "        np.array[complex]: The state of the qubit after the operations.\n",
        "    \"\"\"\n",
        "    if state == 1:\n",
        "        qml.PauliX(wires=0)\n",
        "\n",
        "    ##################\n",
        "    # YOUR CODE HERE #\n",
        "    ##################\n",
        "\n",
        "    # APPLY RX(theta) AND RETURN THE STATE\n",
        "    qml.RX(theta, wires = 0)\n",
        "\n",
        "    return qml.state()\n",
        "\n",
        "\n",
        "# Code for plotting\n",
        "angles = np.linspace(0, 4 * np.pi, 200)\n",
        "output_states = np.array([apply_rx(t, 0) for t in angles])\n",
        "\n",
        "plot = plotter(angles, output_states)\n"
      ],
      "metadata": {
        "id": "0_Zndl3rJy6b"
      },
      "execution_count": null,
      "outputs": []
    },
    {
      "cell_type": "code",
      "source": [
        "dev = qml.device(\"default.qubit\", wires=1)\n",
        "\n",
        "\n",
        "@qml.qnode(dev)\n",
        "def apply_ry(theta, state):\n",
        "    \"\"\"Apply an RY gate with an angle of theta to a particular basis state.\n",
        "\n",
        "    Args:\n",
        "        theta (float): A rotation angle.\n",
        "        state (int): Either 0 or 1. If 1, initialize the qubit to state |1>\n",
        "            before applying other operations.\n",
        "\n",
        "    Returns:\n",
        "        np.array[complex]: The state of the qubit after the operations.\n",
        "    \"\"\"\n",
        "    if state == 1:\n",
        "        qml.PauliX(wires=0)\n",
        "\n",
        "    ##################\n",
        "    # YOUR CODE HERE #\n",
        "    ##################\n",
        "\n",
        "    # APPLY RY(theta) AND RETURN THE STATE\n",
        "    qml.RY(theta, wires = 0)\n",
        "\n",
        "    return qml.state()\n",
        "\n",
        "\n",
        "# Code for plotting\n",
        "angles = np.linspace(0, 4 * np.pi, 200)\n",
        "output_states = np.array([apply_ry(t, 0) for t in angles])\n",
        "\n",
        "plot = plotter(angles, output_states)\n"
      ],
      "metadata": {
        "id": "pVp-cE60Jz98"
      },
      "execution_count": null,
      "outputs": []
    },
    {
      "cell_type": "markdown",
      "source": [
        "**Universal Gate Sets**"
      ],
      "metadata": {
        "id": "DgRUCYpOKdvg"
      }
    },
    {
      "cell_type": "code",
      "source": [
        "dev = qml.device(\"default.qubit\", wires=1)\n",
        "\n",
        "##################\n",
        "# YOUR CODE HERE #\n",
        "##################\n",
        "\n",
        "# ADJUST THE VALUES OF PHI, THETA, AND OMEGA\n",
        "phi, theta, omega = np.pi/2, np.pi/2, np.pi/2\n",
        "\n",
        "\n",
        "@qml.qnode(dev)\n",
        "def hadamard_with_rz_rx():\n",
        "    qml.RZ(phi, wires=0)\n",
        "    qml.RX(theta, wires=0)\n",
        "    qml.RZ(omega, wires=0)\n",
        "    return qml.state()\n"
      ],
      "metadata": {
        "id": "FOt0F-w-KjOV"
      },
      "execution_count": null,
      "outputs": []
    },
    {
      "cell_type": "code",
      "source": [
        "dev = qml.device(\"default.qubit\", wires=1)\n",
        "\n",
        "\n",
        "@qml.qnode(dev)\n",
        "def convert_to_rz_rx():\n",
        "    ##################\n",
        "    # YOUR CODE HERE #\n",
        "    ##################\n",
        "\n",
        "    # IMPLEMENT THE CIRCUIT IN THE PICTURE USING ONLY RZ AND RX\n",
        "    #Hadamard\n",
        "    qml.RZ(np.pi/2, wires = 0)\n",
        "    qml.RX(np.pi/2, wires = 0)\n",
        "    qml.RZ(np.pi/2, wires = 0)\n",
        "\n",
        "    #S gate\n",
        "    qml.RZ(np.pi/2, wires = 0)\n",
        "\n",
        "    #T conjugate\n",
        "    qml.RZ(-np.pi/4, wires = 0)\n",
        "\n",
        "    #Y gate\n",
        "    qml.RX(np.pi, wires = 0)\n",
        "    qml.RZ(np.pi, wires = 0)\n",
        "\n",
        "    return qml.state()\n"
      ],
      "metadata": {
        "id": "N6Gx8hoyKnxL"
      },
      "execution_count": null,
      "outputs": []
    },
    {
      "cell_type": "code",
      "source": [
        "dev = qml.device(\"default.qubit\", wires=1)\n",
        "\n",
        "\n",
        "@qml.qnode(dev)\n",
        "def unitary_with_h_and_t():\n",
        "    ##################\n",
        "    # YOUR CODE HERE #\n",
        "    ##################\n",
        "\n",
        "    # APPLY ONLY H AND T TO PRODUCE A CIRCUIT THAT EFFECTS THE GIVEN MATRIX\n",
        "    qml.Hadamard(wires = 0)\n",
        "    qml.T(wires = 0)\n",
        "    qml.Hadamard(wires = 0)\n",
        "\n",
        "    qml.T(wires = 0)\n",
        "    qml.T(wires = 0)\n",
        "    qml.Hadamard(wires = 0)\n",
        "\n",
        "    return qml.state()\n"
      ],
      "metadata": {
        "id": "WqQC-cUyKqkq"
      },
      "execution_count": null,
      "outputs": []
    },
    {
      "cell_type": "markdown",
      "source": [
        "**Prepare Yourself**"
      ],
      "metadata": {
        "id": "IH7xo_RwOapn"
      }
    },
    {
      "cell_type": "code",
      "source": [
        "dev = qml.device(\"default.qubit\", wires=1)\n",
        "\n",
        "\n",
        "@qml.qnode(dev)\n",
        "def prepare_state():\n",
        "    ##################\n",
        "    # YOUR CODE HERE #\n",
        "    ##################\n",
        "\n",
        "    # APPLY OPERATIONS TO PREPARE THE TARGET STATE\n",
        "    qml.Hadamard(wires = 0)\n",
        "    for i in range(5):\n",
        "        qml.T(wires = 0)\n",
        "\n",
        "    return qml.state()\n"
      ],
      "metadata": {
        "id": "Vi_TB9X2OgIV"
      },
      "execution_count": null,
      "outputs": []
    },
    {
      "cell_type": "code",
      "source": [
        "dev = qml.device(\"default.qubit\", wires=1)\n",
        "\n",
        "\n",
        "@qml.qnode(dev)\n",
        "def prepare_state():\n",
        "    ##################\n",
        "    # YOUR CODE HERE #\n",
        "    ##################\n",
        "\n",
        "    # APPLY OPERATIONS TO PREPARE THE TARGET STATE\n",
        "\n",
        "    qml.RX(np.pi/3, wires = 0)\n",
        "\n",
        "    return qml.state()\n"
      ],
      "metadata": {
        "id": "sC2zWJacOjdv"
      },
      "execution_count": null,
      "outputs": []
    },
    {
      "cell_type": "code",
      "source": [
        "v = np.array([0.52889389 - 0.14956775j, 0.67262317 + 0.49545818j])\n",
        "\n",
        "##################\n",
        "# YOUR CODE HERE #\n",
        "##################\n",
        "\n",
        "# CREATE A DEVICE\n",
        "dev = qml.device(\"default.qubit\", wires = 1)\n",
        "@qml.qnode(dev)\n",
        "\n",
        "# CONSTRUCT A QNODE THAT USES qml.MottonenStatePreparation\n",
        "# TO PREPARE A QUBIT IN STATE V, AND RETURN THE STATE\n",
        "\n",
        "\n",
        "def prepare_state(state=v):\n",
        "\n",
        "    qml.MottonenStatePreparation(v, wires = 0)\n",
        "\n",
        "    return qml.state()\n",
        "\n",
        "\n",
        "# This will draw the quantum circuit and allow you to inspect the output gates\n",
        "print(prepare_state(v))\n",
        "print()\n",
        "print(qml.draw(prepare_state, expansion_strategy=\"device\")(v))\n"
      ],
      "metadata": {
        "id": "10mhSaMjOmCg"
      },
      "execution_count": null,
      "outputs": []
    },
    {
      "cell_type": "markdown",
      "source": [
        "**Measurements**"
      ],
      "metadata": {
        "id": "Af-Xht9w2H_Z"
      }
    },
    {
      "cell_type": "code",
      "source": [
        "dev = qml.device(\"default.qubit\", wires=1)\n",
        "\n",
        "\n",
        "@qml.qnode(dev)\n",
        "def apply_h_and_measure(state):\n",
        "    \"\"\"Complete the function such that we apply the Hadamard gate\n",
        "    and measure in the computational basis.\n",
        "\n",
        "    Args:\n",
        "        state (int): Either 0 or 1. If 1, prepare the qubit in state |1>,\n",
        "            otherwise leave it in state 0.\n",
        "\n",
        "    Returns:\n",
        "        np.array[float]: The measurement outcome probabilities.\n",
        "    \"\"\"\n",
        "    if state == 1:\n",
        "        qml.PauliX(wires=0)\n",
        "\n",
        "    ##################\n",
        "    # YOUR CODE HERE #\n",
        "    ##################\n",
        "\n",
        "    # APPLY HADAMARD AND MEASURE\n",
        "    qml.Hadamard(wires = 0)\n",
        "\n",
        "    return qml.probs(wires = 0)\n",
        "\n",
        "\n",
        "print(apply_h_and_measure(0))\n",
        "print(apply_h_and_measure(1))\n"
      ],
      "metadata": {
        "id": "AA9Y4guC2NIA"
      },
      "execution_count": null,
      "outputs": []
    },
    {
      "cell_type": "code",
      "source": [
        "##################\n",
        "# YOUR CODE HERE #\n",
        "##################\n",
        "\n",
        "\n",
        "# WRITE A QUANTUM FUNCTION THAT PREPARES (1/2)|0> + i(sqrt(3)/2)|1>\n",
        "def prepare_psi():\n",
        "    qml.RX(np.pi/3, wires = 0)\n",
        "    qml.PauliX(wires = 0)\n",
        "    pass\n",
        "\n",
        "\n",
        "# WRITE A QUANTUM FUNCTION THAT SENDS BOTH |0> TO |y_+> and |1> TO |y_->\n",
        "def y_basis_rotation():\n",
        "    qml.Hadamard(wires = 0)\n",
        "    qml.S(wires = 0)\n",
        "    pass\n"
      ],
      "metadata": {
        "id": "xDzUU3tX2Q-7"
      },
      "execution_count": null,
      "outputs": []
    },
    {
      "cell_type": "code",
      "source": [
        "dev = qml.device(\"default.qubit\", wires=1)\n",
        "\n",
        "\n",
        "@qml.qnode(dev)\n",
        "def measure_in_y_basis():\n",
        "    ##################\n",
        "    # YOUR CODE HERE #\n",
        "    ##################\n",
        "\n",
        "    # PREPARE THE STATE\n",
        "    prepare_psi()\n",
        "\n",
        "    # PERFORM THE ROTATION BACK TO COMPUTATIONAL BASIS\n",
        "    qml.adjoint(y_basis_rotation)()\n",
        "\n",
        "    # RETURN THE MEASUREMENT OUTCOME PROBABILITIES\n",
        "\n",
        "    return qml.probs(wires = 0)\n",
        "\n",
        "\n",
        "print(measure_in_y_basis())\n"
      ],
      "metadata": {
        "id": "p5DEKHh22VPi"
      },
      "execution_count": null,
      "outputs": []
    }
  ]
}