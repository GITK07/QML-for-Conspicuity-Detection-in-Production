{
  "nbformat": 4,
  "nbformat_minor": 0,
  "metadata": {
    "colab": {
      "provenance": []
    },
    "kernelspec": {
      "name": "python3",
      "display_name": "Python 3"
    },
    "language_info": {
      "name": "python"
    }
  },
  "cells": [
    {
      "cell_type": "markdown",
      "source": [
        "# **VARIATIONAL CLASSIFIER**"
      ],
      "metadata": {
        "id": "zVFFom5gwa1Y"
      }
    },
    {
      "cell_type": "markdown",
      "source": [
        "Variational Classifier is a Variational Circuit which is used to classify the dataset based on some parameters. It is analogous to a Quantum Neural Network, which also works in a similar way. The Variational Classifier here is used to work on Classical Dataset."
      ],
      "metadata": {
        "id": "wRHIAwd7C8RE"
      }
    },
    {
      "cell_type": "markdown",
      "source": [
        "  **1. Parity Identifier**\n",
        "  \n",
        "  The parity function is a functions which returns the output of 1 when there is an uneven i.e odd numbers of 1's in the input x and 0 or here, -1 otherwise.\n",
        "\n",
        "   * f : x∈{0,1}⊗n → y={1 if uneven number of 1's in x | 0 otherwise.\n",
        "\n",
        "\n",
        "It demonstrates how to encode binary inputs into the initial state of the variational circuit, which is simply a computational basis state (basis encoding).\n"
      ],
      "metadata": {
        "id": "p2NGyvpabrKv"
      }
    },
    {
      "cell_type": "code",
      "source": [
        "pip install pennylane            #Installing the Pennylane environment"
      ],
      "metadata": {
        "colab": {
          "base_uri": "https://localhost:8080/"
        },
        "id": "PpGgZU2K4BKP",
        "outputId": "d55af308-6d06-4843-fba1-eaef5b1afd6a"
      },
      "execution_count": null,
      "outputs": [
        {
          "output_type": "stream",
          "name": "stdout",
          "text": [
            "Collecting pennylane\n",
            "  Downloading PennyLane-0.37.0-py3-none-any.whl (1.8 MB)\n",
            "\u001b[2K     \u001b[90m━━━━━━━━━━━━━━━━━━━━━━━━━━━━━━━━━━━━━━━━\u001b[0m \u001b[32m1.8/1.8 MB\u001b[0m \u001b[31m9.0 MB/s\u001b[0m eta \u001b[36m0:00:00\u001b[0m\n",
            "\u001b[?25hRequirement already satisfied: numpy<2.0 in /usr/local/lib/python3.10/dist-packages (from pennylane) (1.25.2)\n",
            "Requirement already satisfied: scipy in /usr/local/lib/python3.10/dist-packages (from pennylane) (1.11.4)\n",
            "Requirement already satisfied: networkx in /usr/local/lib/python3.10/dist-packages (from pennylane) (3.3)\n",
            "Collecting rustworkx (from pennylane)\n",
            "  Downloading rustworkx-0.15.1-cp38-abi3-manylinux_2_17_x86_64.manylinux2014_x86_64.whl (2.0 MB)\n",
            "\u001b[2K     \u001b[90m━━━━━━━━━━━━━━━━━━━━━━━━━━━━━━━━━━━━━━━━\u001b[0m \u001b[32m2.0/2.0 MB\u001b[0m \u001b[31m12.1 MB/s\u001b[0m eta \u001b[36m0:00:00\u001b[0m\n",
            "\u001b[?25hRequirement already satisfied: autograd in /usr/local/lib/python3.10/dist-packages (from pennylane) (1.6.2)\n",
            "Requirement already satisfied: toml in /usr/local/lib/python3.10/dist-packages (from pennylane) (0.10.2)\n",
            "Collecting appdirs (from pennylane)\n",
            "  Downloading appdirs-1.4.4-py2.py3-none-any.whl (9.6 kB)\n",
            "Collecting semantic-version>=2.7 (from pennylane)\n",
            "  Downloading semantic_version-2.10.0-py2.py3-none-any.whl (15 kB)\n",
            "Collecting autoray>=0.6.11 (from pennylane)\n",
            "  Downloading autoray-0.6.12-py3-none-any.whl (50 kB)\n",
            "\u001b[2K     \u001b[90m━━━━━━━━━━━━━━━━━━━━━━━━━━━━━━━━━━━━━━━━\u001b[0m \u001b[32m51.0/51.0 kB\u001b[0m \u001b[31m2.1 MB/s\u001b[0m eta \u001b[36m0:00:00\u001b[0m\n",
            "\u001b[?25hRequirement already satisfied: cachetools in /usr/local/lib/python3.10/dist-packages (from pennylane) (5.4.0)\n",
            "Collecting pennylane-lightning>=0.37 (from pennylane)\n",
            "  Downloading PennyLane_Lightning-0.37.0-cp310-cp310-manylinux_2_28_x86_64.whl (15.5 MB)\n",
            "\u001b[2K     \u001b[90m━━━━━━━━━━━━━━━━━━━━━━━━━━━━━━━━━━━━━━━━\u001b[0m \u001b[32m15.5/15.5 MB\u001b[0m \u001b[31m19.9 MB/s\u001b[0m eta \u001b[36m0:00:00\u001b[0m\n",
            "\u001b[?25hRequirement already satisfied: requests in /usr/local/lib/python3.10/dist-packages (from pennylane) (2.31.0)\n",
            "Requirement already satisfied: typing-extensions in /usr/local/lib/python3.10/dist-packages (from pennylane) (4.12.2)\n",
            "Requirement already satisfied: packaging in /usr/local/lib/python3.10/dist-packages (from pennylane) (24.1)\n",
            "Requirement already satisfied: future>=0.15.2 in /usr/local/lib/python3.10/dist-packages (from autograd->pennylane) (0.18.3)\n",
            "Requirement already satisfied: charset-normalizer<4,>=2 in /usr/local/lib/python3.10/dist-packages (from requests->pennylane) (3.3.2)\n",
            "Requirement already satisfied: idna<4,>=2.5 in /usr/local/lib/python3.10/dist-packages (from requests->pennylane) (3.7)\n",
            "Requirement already satisfied: urllib3<3,>=1.21.1 in /usr/local/lib/python3.10/dist-packages (from requests->pennylane) (2.0.7)\n",
            "Requirement already satisfied: certifi>=2017.4.17 in /usr/local/lib/python3.10/dist-packages (from requests->pennylane) (2024.7.4)\n",
            "Installing collected packages: appdirs, semantic-version, rustworkx, autoray, pennylane-lightning, pennylane\n",
            "Successfully installed appdirs-1.4.4 autoray-0.6.12 pennylane-0.37.0 pennylane-lightning-0.37.0 rustworkx-0.15.1 semantic-version-2.10.0\n"
          ]
        }
      ]
    },
    {
      "cell_type": "code",
      "source": [
        "import pennylane as qml                        #Importing packages from pennylane\n",
        "from pennylane import numpy as np"
      ],
      "metadata": {
        "id": "9ePAQsFRLVN1"
      },
      "execution_count": null,
      "outputs": []
    },
    {
      "cell_type": "code",
      "source": [
        "from pennylane.optimize import NesterovMomentumOptimizer  #importing the optimizer function"
      ],
      "metadata": {
        "id": "xd0JMnq4Mlyp"
      },
      "execution_count": null,
      "outputs": []
    },
    {
      "cell_type": "markdown",
      "source": [
        "First we define the Layer which essentially is an elementary circuit architecture that gets repeated to build the full Variational Circuit.\n",
        "\n",
        "Here the Layer, \"layer\" is defines as a circuit consisting of 4 qubits or wires having applied to each a Rot function, which is basically a conscutive tranformation of RZ, RY and RZ gates respectively. Then a CNOT gate is applied among the adjacent qubits so as to entangle them to their neighbours.\n",
        "\n",
        "****\n",
        "\n",
        "**#1** Creating a device to run the circuit on. These devices are generated for running the quantum circuit operations.\n",
        "\n",
        "**#2** Here the Rot function is applied to each of the qubit. Rot function consists of a sequetial transformation in the order : RZ, RY and RZ.\n",
        "\n",
        "**#3** Neighbouring qubits are applied a CNOT gate to them so that these pairs of qubits are entangled.\n",
        "\n",
        "\n",
        "*****\n",
        "Step 2&3 are part of the \"Layer\" or \"block\" formation, where layer refers to an elementary circuit architecture that gets repeated to build the full variational circuit.\n",
        "****"
      ],
      "metadata": {
        "id": "MHoHu0rsebzu"
      }
    },
    {
      "cell_type": "code",
      "source": [
        "dev = qml.device(\"default.qubit\")                  #1\n",
        "def layer(layer_weights):\n",
        "    for wire in range(4):\n",
        "        qml.Rot(*layer_weights[wire], wires=wire)  #2\n",
        "\n",
        "    for wires in ([0, 1], [1, 2], [2, 3], [3, 0]): #3\n",
        "        qml.CNOT(wires)"
      ],
      "metadata": {
        "id": "troZhWOYPPDs"
      },
      "execution_count": null,
      "outputs": []
    },
    {
      "cell_type": "markdown",
      "source": [
        " This is the state preparation function that basically creates the Basis state of qubits according to the input string. Here the places where there is 1 in the input string is encoded as 1 in the Basis state qubits and similarly with the 0 as well.\n",
        " ****\n",
        "\n",
        "**#4** Defines the state preparation function with the data input x. The inputs are bitstrings, which we encode into the state of the qubits. The quantum state ψ after state preparation is a computational basis state that has 1s where x has 1s, and 0s where x has 0s."
      ],
      "metadata": {
        "id": "VUQAbjZNoKZp"
      }
    },
    {
      "cell_type": "code",
      "source": [
        "def state_preparation(x):                   #4\n",
        "    qml.BasisState(x, wires=[0, 1, 2, 3])"
      ],
      "metadata": {
        "id": "CtIFj6jNRx6_"
      },
      "execution_count": null,
      "outputs": []
    },
    {
      "cell_type": "markdown",
      "source": [
        "Here we define the Variational Classifier circuit where the previously defined layer structure namely layer is repeated to complete the circuit.\n",
        "****\n",
        "\n",
        "**#5** This esentially is the definition of the Variational Circuit, which takes two inputs : wights and x, where x is the input bitstring.\n",
        "\n",
        "**#6** State preparation function is used here to convert the input bitstring into a qubit state vector.\n",
        "\n",
        "**#7** This step is where the layer structure is applied repetitively.\n",
        "\n",
        "**#8** This step returns the Expected value of the computed circuit transformed to its Pauli Z counterpart."
      ],
      "metadata": {
        "id": "4cKwGSyooqGD"
      }
    },
    {
      "cell_type": "code",
      "source": [
        "@qml.qnode(dev)\n",
        "def circuit(weights, x):                       #5\n",
        "    state_preparation(x)                       #6\n",
        "\n",
        "    for layer_weights in weights:              #7\n",
        "        layer(layer_weights)\n",
        "\n",
        "    return qml.expval(qml.PauliZ(0))           #8"
      ],
      "metadata": {
        "id": "6twcMmzsYVQn"
      },
      "execution_count": null,
      "outputs": []
    },
    {
      "cell_type": "markdown",
      "source": [
        "Here we postprocess the above Variational Clssifier to add a classical trainable Bias term to the circuit."
      ],
      "metadata": {
        "id": "qOFPTMpMI63-"
      }
    },
    {
      "cell_type": "code",
      "source": [
        "def variational_classifier(weights, bias, x):              # define the variational classifier circuit\n",
        "    return circuit(weights, x) + bias"
      ],
      "metadata": {
        "id": "-H8RkuwwKgPs"
      },
      "execution_count": null,
      "outputs": []
    },
    {
      "cell_type": "markdown",
      "source": [
        "**Cost**\n",
        "\n",
        "This is the step that applies the Supervised Learning of the Machine Learning Algorithm. In supervised learning, the cost function is defined in order to devise the best fitting solution to the ML model. The Cost function is defined as the sum of the Loss funtion and the regulazier.\n",
        "\n",
        "*****\n",
        "\n",
        "**#9** This is the Square loss function. This is defined as the mean of the square of the difference between labels and the predictions of all the datapoints. This essentially is the diatance between the target labels and the model's predictions.\n",
        "\n",
        "**#10** This is the function that checks for the accuracy of the predicted values against the labels. It is the proportion of predictions that agree with a set of target labels. This is defined to monitor how many inputs the current classifier predicted correctly.\n",
        "\n",
        "**#11** This is the Cost function which actually produces the predictions for the above functions. This function depends on the features and the labels of the optimization routine. It defines how well the model works for the input data and how it can furthur be optimized.\n"
      ],
      "metadata": {
        "id": "AIrNpDp7JFh1"
      }
    },
    {
      "cell_type": "code",
      "source": [
        "def square_loss(labels, predictions):                                 #9\n",
        "    return np.mean((labels - qml.math.stack(predictions)) ** 2)\n",
        "\n",
        "def accuracy(labels, predictions):                                    #10\n",
        "    acc = sum(abs(l - p) < 1e-5 for l, p in zip(labels, predictions))\n",
        "    acc = acc / len(labels)\n",
        "    return acc\n",
        "\n",
        "def cost(weights, bias, X, Y):                                        #11\n",
        "    predictions = [variational_classifier(weights, bias, x) for x in X]\n",
        "    return square_loss(Y, predictions)"
      ],
      "metadata": {
        "id": "3l19rlr13uQT"
      },
      "execution_count": null,
      "outputs": []
    },
    {
      "cell_type": "markdown",
      "source": [
        "**Optimization**\n",
        "\n",
        "This is the Optimization process of the model. Here the two datasets namely : parity_test and parity_train are used to train as well as test the model. This step basically gives the best optimized value of our Variational Circuit.\n",
        "****\n",
        "\n",
        "**#12** This step loads the data from parity_test to the model for the learning purposes.\n",
        "\n",
        "**#13** This along with the above steps are responsible for learning the parity function and use this learning along with the above defined Cost function to determine the predicted labels for the data in the parity_test dataset, 1 for the odd parity and -1 for even parity.\n",
        "\n",
        "Next steps are for printing these predicted values along with their qubit state vectors on which this model has been trained."
      ],
      "metadata": {
        "id": "Q7nuO8Z-OgNQ"
      }
    },
    {
      "cell_type": "code",
      "source": [
        "data = np.loadtxt(\"parity_train.txt\", dtype=int)                      #12\n",
        "X = np.array(data[:, :-1])\n",
        "Y = np.array(data[:, -1])\n",
        "Y = Y * 2 - 1  # shift label from {0, 1} to {-1, 1}                   #13\n",
        "\n",
        "for x,y in zip(X, Y):\n",
        "    print(f\"x = {x}, y = {y}\")"
      ],
      "metadata": {
        "colab": {
          "base_uri": "https://localhost:8080/"
        },
        "id": "M_EwoPdX5map",
        "outputId": "2d22f34c-eab6-4462-ef4a-4246dcdf94de"
      },
      "execution_count": null,
      "outputs": [
        {
          "output_type": "stream",
          "name": "stdout",
          "text": [
            "x = [0 0 0 1], y = 1\n",
            "x = [0 0 1 0], y = 1\n",
            "x = [0 1 0 0], y = 1\n",
            "x = [0 1 0 1], y = -1\n",
            "x = [0 1 1 0], y = -1\n",
            "x = [0 1 1 1], y = 1\n",
            "x = [1 0 0 0], y = 1\n",
            "x = [1 0 0 1], y = -1\n",
            "x = [1 0 1 1], y = 1\n",
            "x = [1 1 1 1], y = -1\n"
          ]
        }
      ]
    },
    {
      "cell_type": "markdown",
      "source": [
        "These lines of code calculates the Weights and Bias for the model. This involves the random initialization of the variables however a seed is defined for the purposes of reproducibilty.\n",
        "\n",
        "Reproducibility is enabled in order to ensure the credibility of the results every time it is executed.\n",
        "\n",
        "Only a single variable is treated as bias whilst the rest of them are used as an input to the variational circuit."
      ],
      "metadata": {
        "id": "hOHthxvqQcZ9"
      }
    },
    {
      "cell_type": "code",
      "source": [
        "np.random.seed(0)                                          #initializing random values\n",
        "num_qubits = 4\n",
        "num_layers = 2\n",
        "weights_init = 0.01 * np.random.randn(num_layers, num_qubits, 3, requires_grad=True)         #claculating the weights ans bias\n",
        "bias_init = np.array(0.0, requires_grad=True)\n",
        "print(\"Weights:\", weights_init)\n",
        "print(\"Bias: \", bias_init)"
      ],
      "metadata": {
        "id": "5sRXvLjM5qpF",
        "colab": {
          "base_uri": "https://localhost:8080/"
        },
        "outputId": "736aaa8c-64b7-4e97-e8a2-629f130e3a1f"
      },
      "execution_count": null,
      "outputs": [
        {
          "output_type": "stream",
          "name": "stdout",
          "text": [
            "Weights: [[[ 0.01764052  0.00400157  0.00978738]\n",
            "  [ 0.02240893  0.01867558 -0.00977278]\n",
            "  [ 0.00950088 -0.00151357 -0.00103219]\n",
            "  [ 0.00410599  0.00144044  0.01454274]]\n",
            "\n",
            " [[ 0.00761038  0.00121675  0.00443863]\n",
            "  [ 0.00333674  0.01494079 -0.00205158]\n",
            "  [ 0.00313068 -0.00854096 -0.0255299 ]\n",
            "  [ 0.00653619  0.00864436 -0.00742165]]]\n",
            "Bias:  0.0\n"
          ]
        }
      ]
    },
    {
      "cell_type": "markdown",
      "source": [
        "**#14** Here we first define an optimizer instance of batch size 5 from the builtin libraray of optimizers provided by pennylane and then eventually run it to train our model.\n",
        "\n",
        "**#15** Here we compute the accuracy of our model and turn it into predictions {-1,1}.\n",
        "\n",
        "****\n",
        "\n",
        "The classifier is able to predict all the training set data correctly. However our model should be able to predict the cirrect values for the data it has never seen before as well hence we will be using the test data from before for the unsupervised learning."
      ],
      "metadata": {
        "id": "bkk3ddk7iY3_"
      }
    },
    {
      "cell_type": "code",
      "source": [
        "opt = NesterovMomentumOptimizer(0.5)                   #14\n",
        "batch_size = 5\n",
        "\n",
        "weights = weights_init\n",
        "bias = bias_init\n",
        "for it in range(100):                                                             #15\n",
        "    batch_index = np.random.randint(0, len(X), (batch_size,))                     # Update the weights by one optimizer step, using only a limited batch of data\n",
        "    X_batch = X[batch_index]\n",
        "    Y_batch = Y[batch_index]\n",
        "    weights, bias = opt.step(cost, weights, bias, X=X_batch, Y=Y_batch)           #applying the optimizer\n",
        "\n",
        "    predictions = [np.sign(variational_classifier(weights, bias, x)) for x in X]  # Computing the accuracy\n",
        "\n",
        "    current_cost = cost(weights, bias, X, Y)                                      #computed cost and accuracy\n",
        "    acc = accuracy(Y, predictions)\n",
        "\n",
        "    print(f\"Iter: {it+1:4d} | Cost: {current_cost:0.7f} | Accuracy: {acc:0.7f}\")"
      ],
      "metadata": {
        "colab": {
          "base_uri": "https://localhost:8080/"
        },
        "id": "mchgDpaQ6zSz",
        "outputId": "1a94b7e8-5e68-40ee-dd36-6667feb4996b"
      },
      "execution_count": null,
      "outputs": [
        {
          "output_type": "stream",
          "name": "stdout",
          "text": [
            "Iter:    1 | Cost: 2.3147651 | Accuracy: 0.5000000\n",
            "Iter:    2 | Cost: 1.9664866 | Accuracy: 0.5000000\n",
            "Iter:    3 | Cost: 1.9208589 | Accuracy: 0.5000000\n",
            "Iter:    4 | Cost: 2.6276126 | Accuracy: 0.5000000\n",
            "Iter:    5 | Cost: 0.9323119 | Accuracy: 0.6000000\n",
            "Iter:    6 | Cost: 1.1903549 | Accuracy: 0.5000000\n",
            "Iter:    7 | Cost: 2.0508989 | Accuracy: 0.4000000\n",
            "Iter:    8 | Cost: 1.1275531 | Accuracy: 0.6000000\n",
            "Iter:    9 | Cost: 1.1659803 | Accuracy: 0.6000000\n",
            "Iter:   10 | Cost: 1.1349618 | Accuracy: 0.6000000\n",
            "Iter:   11 | Cost: 0.9994063 | Accuracy: 0.6000000\n",
            "Iter:   12 | Cost: 1.0812559 | Accuracy: 0.6000000\n",
            "Iter:   13 | Cost: 1.2863155 | Accuracy: 0.6000000\n",
            "Iter:   14 | Cost: 2.2658259 | Accuracy: 0.4000000\n",
            "Iter:   15 | Cost: 1.1323724 | Accuracy: 0.6000000\n",
            "Iter:   16 | Cost: 1.3439737 | Accuracy: 0.8000000\n",
            "Iter:   17 | Cost: 2.0076168 | Accuracy: 0.6000000\n",
            "Iter:   18 | Cost: 1.2685760 | Accuracy: 0.5000000\n",
            "Iter:   19 | Cost: 1.6762475 | Accuracy: 0.5000000\n",
            "Iter:   20 | Cost: 1.1868237 | Accuracy: 0.6000000\n",
            "Iter:   21 | Cost: 1.4784687 | Accuracy: 0.6000000\n",
            "Iter:   22 | Cost: 1.4599473 | Accuracy: 0.6000000\n",
            "Iter:   23 | Cost: 0.9573269 | Accuracy: 0.6000000\n",
            "Iter:   24 | Cost: 1.1657424 | Accuracy: 0.5000000\n",
            "Iter:   25 | Cost: 1.0877087 | Accuracy: 0.4000000\n",
            "Iter:   26 | Cost: 1.1683687 | Accuracy: 0.6000000\n",
            "Iter:   27 | Cost: 2.1141689 | Accuracy: 0.6000000\n",
            "Iter:   28 | Cost: 1.0272966 | Accuracy: 0.5000000\n",
            "Iter:   29 | Cost: 0.9664085 | Accuracy: 0.5000000\n",
            "Iter:   30 | Cost: 1.1287654 | Accuracy: 0.6000000\n",
            "Iter:   31 | Cost: 1.4202360 | Accuracy: 0.4000000\n",
            "Iter:   32 | Cost: 1.1286000 | Accuracy: 0.5000000\n",
            "Iter:   33 | Cost: 1.9594333 | Accuracy: 0.4000000\n",
            "Iter:   34 | Cost: 1.2811832 | Accuracy: 0.4000000\n",
            "Iter:   35 | Cost: 0.8522775 | Accuracy: 0.7000000\n",
            "Iter:   36 | Cost: 1.4765281 | Accuracy: 0.6000000\n",
            "Iter:   37 | Cost: 0.9603287 | Accuracy: 0.6000000\n",
            "Iter:   38 | Cost: 1.6031314 | Accuracy: 0.6000000\n",
            "Iter:   39 | Cost: 1.1700888 | Accuracy: 0.4000000\n",
            "Iter:   40 | Cost: 1.7571779 | Accuracy: 0.4000000\n",
            "Iter:   41 | Cost: 1.9608116 | Accuracy: 0.6000000\n",
            "Iter:   42 | Cost: 2.0802752 | Accuracy: 0.6000000\n",
            "Iter:   43 | Cost: 1.1904884 | Accuracy: 0.3000000\n",
            "Iter:   44 | Cost: 0.9941585 | Accuracy: 0.6000000\n",
            "Iter:   45 | Cost: 1.0709609 | Accuracy: 0.5000000\n",
            "Iter:   46 | Cost: 0.9780625 | Accuracy: 0.6000000\n",
            "Iter:   47 | Cost: 1.1573709 | Accuracy: 0.6000000\n",
            "Iter:   48 | Cost: 1.0235239 | Accuracy: 0.6000000\n",
            "Iter:   49 | Cost: 1.2842469 | Accuracy: 0.5000000\n",
            "Iter:   50 | Cost: 0.8549226 | Accuracy: 0.6000000\n",
            "Iter:   51 | Cost: 0.5136787 | Accuracy: 1.0000000\n",
            "Iter:   52 | Cost: 0.2488031 | Accuracy: 1.0000000\n",
            "Iter:   53 | Cost: 0.0461277 | Accuracy: 1.0000000\n",
            "Iter:   54 | Cost: 0.0293518 | Accuracy: 1.0000000\n",
            "Iter:   55 | Cost: 0.0205454 | Accuracy: 1.0000000\n",
            "Iter:   56 | Cost: 0.0352514 | Accuracy: 1.0000000\n",
            "Iter:   57 | Cost: 0.0576767 | Accuracy: 1.0000000\n",
            "Iter:   58 | Cost: 0.0291305 | Accuracy: 1.0000000\n",
            "Iter:   59 | Cost: 0.0127137 | Accuracy: 1.0000000\n",
            "Iter:   60 | Cost: 0.0058108 | Accuracy: 1.0000000\n",
            "Iter:   61 | Cost: 0.0018002 | Accuracy: 1.0000000\n",
            "Iter:   62 | Cost: 0.0014089 | Accuracy: 1.0000000\n",
            "Iter:   63 | Cost: 0.0017489 | Accuracy: 1.0000000\n",
            "Iter:   64 | Cost: 0.0021282 | Accuracy: 1.0000000\n",
            "Iter:   65 | Cost: 0.0029876 | Accuracy: 1.0000000\n",
            "Iter:   66 | Cost: 0.0035331 | Accuracy: 1.0000000\n",
            "Iter:   67 | Cost: 0.0035540 | Accuracy: 1.0000000\n",
            "Iter:   68 | Cost: 0.0025639 | Accuracy: 1.0000000\n",
            "Iter:   69 | Cost: 0.0019459 | Accuracy: 1.0000000\n",
            "Iter:   70 | Cost: 0.0015856 | Accuracy: 1.0000000\n",
            "Iter:   71 | Cost: 0.0008439 | Accuracy: 1.0000000\n",
            "Iter:   72 | Cost: 0.0005960 | Accuracy: 1.0000000\n",
            "Iter:   73 | Cost: 0.0003122 | Accuracy: 1.0000000\n",
            "Iter:   74 | Cost: 0.0002446 | Accuracy: 1.0000000\n",
            "Iter:   75 | Cost: 0.0001745 | Accuracy: 1.0000000\n",
            "Iter:   76 | Cost: 0.0001215 | Accuracy: 1.0000000\n",
            "Iter:   77 | Cost: 0.0001141 | Accuracy: 1.0000000\n",
            "Iter:   78 | Cost: 0.0001538 | Accuracy: 1.0000000\n",
            "Iter:   79 | Cost: 0.0001871 | Accuracy: 1.0000000\n",
            "Iter:   80 | Cost: 0.0001330 | Accuracy: 1.0000000\n",
            "Iter:   81 | Cost: 0.0001380 | Accuracy: 1.0000000\n",
            "Iter:   82 | Cost: 0.0001336 | Accuracy: 1.0000000\n",
            "Iter:   83 | Cost: 0.0001483 | Accuracy: 1.0000000\n",
            "Iter:   84 | Cost: 0.0001234 | Accuracy: 1.0000000\n",
            "Iter:   85 | Cost: 0.0001359 | Accuracy: 1.0000000\n",
            "Iter:   86 | Cost: 0.0001268 | Accuracy: 1.0000000\n",
            "Iter:   87 | Cost: 0.0002270 | Accuracy: 1.0000000\n",
            "Iter:   88 | Cost: 0.0000865 | Accuracy: 1.0000000\n",
            "Iter:   89 | Cost: 0.0000774 | Accuracy: 1.0000000\n",
            "Iter:   90 | Cost: 0.0000759 | Accuracy: 1.0000000\n",
            "Iter:   91 | Cost: 0.0000607 | Accuracy: 1.0000000\n",
            "Iter:   92 | Cost: 0.0000523 | Accuracy: 1.0000000\n",
            "Iter:   93 | Cost: 0.0000536 | Accuracy: 1.0000000\n",
            "Iter:   94 | Cost: 0.0000444 | Accuracy: 1.0000000\n",
            "Iter:   95 | Cost: 0.0000384 | Accuracy: 1.0000000\n",
            "Iter:   96 | Cost: 0.0000497 | Accuracy: 1.0000000\n",
            "Iter:   97 | Cost: 0.0000263 | Accuracy: 1.0000000\n",
            "Iter:   98 | Cost: 0.0000229 | Accuracy: 1.0000000\n",
            "Iter:   99 | Cost: 0.0000339 | Accuracy: 1.0000000\n",
            "Iter:  100 | Cost: 0.0000174 | Accuracy: 1.0000000\n"
          ]
        }
      ]
    },
    {
      "cell_type": "markdown",
      "source": [
        "**#16** Inthese steps we are predicting the weights and bias for the model using the test data which was loaded into the environment in the previous lines of the same block of code.\n",
        "\n",
        "**#17** These lines of code prints the predicted values of the test dataset. The next lines of code however check for the acuuracy of the model by calculating the accuracy function and in order to find the good minima leading to well generalising minima.\n",
        "\n",
        "****\n"
      ],
      "metadata": {
        "id": "cvS9PKLplXVa"
      }
    },
    {
      "cell_type": "code",
      "source": [
        "data = np.loadtxt(\"parity_test.txt\", dtype=int)                                         #using the test data;\n",
        "X_test = np.array(data[:, :-1])\n",
        "Y_test = np.array(data[:, -1])\n",
        "Y_test = Y_test * 2 - 1  # shift label from {0, 1} to {-1, 1}\n",
        "                                                                                        #16\n",
        "predictions_test = [np.sign(variational_classifier(weights, bias, x)) for x in X_test]  #predicting the values using the variational classifier we just defined\n",
        "\n",
        "for x,y,p in zip(X_test, Y_test, predictions_test):                                     #17\n",
        "    print(f\"x = {x}, y = {y}, pred={p}\")\n",
        "\n",
        "acc_test = accuracy(Y_test, predictions_test)\n",
        "print(\"Accuracy on unseen data:\", acc_test)\n",
        "\n"
      ],
      "metadata": {
        "colab": {
          "base_uri": "https://localhost:8080/"
        },
        "id": "QzJOUZ557jdX",
        "outputId": "9105472a-7923-4b8a-b45d-4bedd3588c00"
      },
      "execution_count": null,
      "outputs": [
        {
          "output_type": "stream",
          "name": "stdout",
          "text": [
            "x = [0 0 0 0], y = -1, pred=-1.0\n",
            "x = [0 0 1 1], y = -1, pred=-1.0\n",
            "x = [1 0 1 0], y = -1, pred=-1.0\n",
            "x = [1 1 1 0], y = 1, pred=1.0\n",
            "x = [1 1 0 0], y = -1, pred=-1.0\n",
            "x = [1 1 0 1], y = 1, pred=1.0\n",
            "Accuracy on unseen data: 1.0\n"
          ]
        }
      ]
    },
    {
      "cell_type": "markdown",
      "source": [
        "****\n",
        "As we can see from the output of the code, the model has correctly predicted the values for the unseen test dataset and hence we can conclude this encoding strategy to be on of the optimal choices.\n",
        "\n",
        "This encoding strategy creates quanutm states from the dataset that has zero overlap i.e the states created from the test set have no overlap with the states from the training dataset and hence is in itself quite a remarkable feat.\n",
        "\n",
        "****"
      ],
      "metadata": {
        "id": "LvCpCS1Bqt_g"
      }
    },
    {
      "cell_type": "markdown",
      "source": [
        "# **Iris classification**"
      ],
      "metadata": {
        "id": "oyPZ_bwCr5MY"
      }
    },
    {
      "cell_type": "markdown",
      "source": [
        "This classification is different from the above in the sense that here the input is not in the form of bitstrings rather is represented in the form of a real-valued vectors. These vectors are 2-dimensional and we encode them into 2 qubits by using some latent vectors in addition to the input vectors.\n",
        "\n",
        "Remember, for simplicity only the positive values are taken as the negative values would require in the state_preparation() function another rotation along the Z-axis.\n",
        "\n",
        "****\n",
        "\n",
        "**#1** Here the state prepapration is not the same as that of the above case, here the input x is to be translated into a set of angles which can then be furthur processed into the state_preparation() function.\n"
      ],
      "metadata": {
        "id": "hodphqkksSZS"
      }
    },
    {
      "cell_type": "code",
      "source": [
        "def get_angles(x):                                                                       #1\n",
        "    beta0 = 2 * np.arcsin(np.sqrt(x[1] ** 2) / np.sqrt(x[0] ** 2 + x[1] ** 2 + 1e-12))   #Defining the input x into some angles\n",
        "    beta1 = 2 * np.arcsin(np.sqrt(x[3] ** 2) / np.sqrt(x[2] ** 2 + x[3] ** 2 + 1e-12))\n",
        "    beta2 = 2 * np.arcsin(np.linalg.norm(x[2:]) / np.linalg.norm(x))\n",
        "\n",
        "    return np.array([beta2, -beta1 / 2, beta1 / 2, -beta0 / 2, beta0 / 2])               #Returned angles are then input into the state_preparation()\n",
        "\n",
        "                                                                                         #function in order to get the states.\n",
        "def state_preparation(a):\n",
        "    qml.RY(a[0], wires=0)                                                                #rotation  qubit 0 along y-axis\n",
        "\n",
        "    qml.CNOT(wires=[0, 1])                                                               #qubit 0 and 1 are entangled\n",
        "    qml.RY(a[1], wires=1)\n",
        "    qml.CNOT(wires=[0, 1])\n",
        "    qml.RY(a[2], wires=1)\n",
        "\n",
        "    qml.PauliX(wires=0)\n",
        "    qml.CNOT(wires=[0, 1])\n",
        "    qml.RY(a[3], wires=1)\n",
        "    qml.CNOT(wires=[0, 1])\n",
        "    qml.RY(a[4], wires=1)\n",
        "    qml.PauliX(wires=0)"
      ],
      "metadata": {
        "id": "O-1VIp7sIav_"
      },
      "execution_count": null,
      "outputs": []
    },
    {
      "cell_type": "markdown",
      "source": [
        "The following code routine is to check for the above code if it works correctly or not. As we can see in the output, it is clear that the above lines of code work perfectly fine."
      ],
      "metadata": {
        "id": "4sCZaW1MH0KZ"
      }
    },
    {
      "cell_type": "code",
      "source": [
        "x = np.array([0.53896774, 0.79503606, 0.27826503, 0.0], requires_grad=False)\n",
        "ang = get_angles(x)\n",
        "\n",
        "\n",
        "@qml.qnode(dev)\n",
        "def test(angles):\n",
        "    state_preparation(angles)\n",
        "\n",
        "    return qml.state()\n",
        "\n",
        "\n",
        "state = test(ang)\n",
        "\n",
        "print(\"x               : \", np.round(x, 6))\n",
        "print(\"angles          : \", np.round(ang, 6))\n",
        "print(\"amplitude vector: \", np.round(np.real(state), 6))"
      ],
      "metadata": {
        "colab": {
          "base_uri": "https://localhost:8080/"
        },
        "id": "7LAstu_qIctl",
        "outputId": "f00cf280-009e-4ae8-8630-f4fb33c622c8"
      },
      "execution_count": null,
      "outputs": [
        {
          "output_type": "stream",
          "name": "stdout",
          "text": [
            "x               :  [0.538968 0.795036 0.278265 0.      ]\n",
            "angles          :  [ 0.563975 -0.        0.       -0.975046  0.975046]\n",
            "amplitude vector:  [ 0.538968  0.795036  0.278265 -0.      ]\n"
          ]
        }
      ]
    },
    {
      "cell_type": "markdown",
      "source": [
        "****\n",
        "**#2** Here we define the layer() function for 2 qubits as we are working on two qubits only. The function definition is the same as above where one Rot() function is applied to each and the CNOT gate is applied to the 0 and 1 qubit.\n",
        "\n",
        "**#3** We again define the cost function to track for the accuracy of the model we define in the following code cells.\n",
        "Here the variational_classifier from the previous definition is being used and return the square_loss."
      ],
      "metadata": {
        "id": "BL8TasiWIeak"
      }
    },
    {
      "cell_type": "code",
      "source": [
        "def layer(layer_weights):                                       #2\n",
        "    for wire in range(2):\n",
        "        qml.Rot(*layer_weights[wire], wires=wire)\n",
        "    qml.CNOT(wires=[0, 1])\n",
        "\n",
        "\n",
        "def cost(weights, bias, X, Y):                                  #3\n",
        "    # Transpose the batch of input data in order to make the indexing\n",
        "    # in state_preparation work\n",
        "    predictions = variational_classifier(weights, bias, X.T)\n",
        "    return square_loss(Y, predictions)"
      ],
      "metadata": {
        "id": "5wbUAx7fIp8R"
      },
      "execution_count": null,
      "outputs": []
    },
    {
      "cell_type": "markdown",
      "source": [
        "*****\n",
        "**Data**\n"
      ],
      "metadata": {
        "id": "3w7ibT_HNhql"
      }
    },
    {
      "cell_type": "markdown",
      "source": [
        "**#4** We load the iris dataset into the environment that is to be used for the furthur processing of the model.\n",
        "\n",
        "**#5** We add two more rows of value 0.1 in order to ensure the size of the vector to be consistent for the furthur operation.\n",
        "\n",
        "**#6** Next is the normalization step, where each state is normalized. Normalization is a process that is used to convert the amplitude of each state such that the cumulative amplitude becomes unity. Normalization is necessary for consisitentcy as  well.\n",
        "\n",
        "**#7** The features i.e the input is taken and processed in the form of angles for the state preparation as described above in the get_angles() function definition."
      ],
      "metadata": {
        "id": "Nd4kpvpVKWiJ"
      }
    },
    {
      "cell_type": "code",
      "source": [
        "data = np.loadtxt(\"VC_FILE.txt\")                                  #4\n",
        "X = data[:, 0:2]\n",
        "print(f\"First X sample (original)  : {X[0]}\")\n",
        "\n",
        "padding = np.ones((len(X), 2)) * 0.1                              #5\n",
        "X_pad = np.c_[X, padding]                                         # pad the vectors to size 2^2=4 with constant values\n",
        "print(f\"First X sample (padded)    : {X_pad[0]}\")\n",
        "\n",
        "normalization = np.sqrt(np.sum(X_pad**2, -1))                     #6\n",
        "X_norm = (X_pad.T / normalization).T                              # normalize each input\n",
        "print(f\"First X sample (normalized): {X_norm[0]}\")\n",
        "\n",
        "features = np.array([get_angles(x) for x in X_norm], requires_grad=False)  #7\n",
        "print(f\"First features sample      : {features[0]}\")              # the angles for state preparation are the features\n",
        "\n",
        "Y = data[:, -1]\n"
      ],
      "metadata": {
        "colab": {
          "base_uri": "https://localhost:8080/"
        },
        "id": "SBw7Ij19JF1_",
        "outputId": "0d358ac3-2a72-4c8d-f2f1-a22b3b62392d"
      },
      "execution_count": null,
      "outputs": [
        {
          "output_type": "stream",
          "name": "stdout",
          "text": [
            "First X sample (original)  : [0.4  0.75]\n",
            "First X sample (padded)    : [0.4  0.75 0.1  0.1 ]\n",
            "First X sample (normalized): [0.46420708 0.87038828 0.11605177 0.11605177]\n",
            "First features sample      : [ 0.32973573 -0.78539816  0.78539816 -1.080839    1.080839  ]\n"
          ]
        }
      ]
    },
    {
      "cell_type": "markdown",
      "source": [
        "****\n",
        "These angles formed in the above snippet are the new features and the following code is for preprocessing which involves tweaking the dimensions namely, dim1 and dim2 to separate the classes. Not all results would be very informative but mostly will offer something to infer."
      ],
      "metadata": {
        "id": "cNRr4PsUw91x"
      }
    },
    {
      "cell_type": "code",
      "source": [
        "import matplotlib.pyplot as plt\n",
        "\n",
        "plt.figure()\n",
        "plt.scatter(X[:, 0][Y == 1], X[:, 1][Y == 1], c=\"b\", marker=\"o\", ec=\"k\")\n",
        "plt.scatter(X[:, 0][Y == -1], X[:, 1][Y == -1], c=\"r\", marker=\"o\", ec=\"k\")\n",
        "plt.title(\"Original data\")\n",
        "plt.show()\n",
        "\n",
        "plt.figure()\n",
        "dim1 = 0\n",
        "dim2 = 1\n",
        "plt.scatter(X_norm[:, dim1][Y == 1], X_norm[:, dim2][Y == 1], c=\"b\", marker=\"o\", ec=\"k\")\n",
        "plt.scatter(X_norm[:, dim1][Y == -1], X_norm[:, dim2][Y == -1], c=\"r\", marker=\"o\", ec=\"k\")\n",
        "plt.title(f\"Padded and normalised data (dims {dim1} and {dim2})\")\n",
        "plt.show()\n",
        "\n",
        "plt.figure()\n",
        "dim1 = 0\n",
        "dim2 = 3\n",
        "plt.scatter(features[:, dim1][Y == 1], features[:, dim2][Y == 1], c=\"b\", marker=\"o\", ec=\"k\")\n",
        "plt.scatter(features[:, dim1][Y == -1], features[:, dim2][Y == -1], c=\"r\", marker=\"o\", ec=\"k\")\n",
        "plt.title(f\"Feature vectors (dims {dim1} and {dim2})\")\n",
        "plt.show()"
      ],
      "metadata": {
        "colab": {
          "base_uri": "https://localhost:8080/",
          "height": 1000
        },
        "id": "P6_8fVL_JUlo",
        "outputId": "915b3a7e-6b72-4f11-9dd4-4d7b37e7b668"
      },
      "execution_count": null,
      "outputs": [
        {
          "output_type": "display_data",
          "data": {
            "text/plain": [
              "<Figure size 640x480 with 1 Axes>"
            ],
            "image/png": "[encoded data removed]"
          },
          "metadata": {}
        },
        {
          "output_type": "display_data",
          "data": {
            "text/plain": [
              "<Figure size 640x480 with 1 Axes>"
            ],
            "image/png": "[encoded data removed]"
          },
          "metadata": {}
        },
        {
          "output_type": "display_data",
          "data": {
            "text/plain": [
              "<Figure size 640x480 with 1 Axes>"
            ],
            "image/png": "[encoded data removed]"
          },
          "metadata": {}
        }
      ]
    },
    {
      "cell_type": "markdown",
      "source": [
        "****\n",
        "In this block of code we are trying to train our model on one set of data and text it onto the other set of data. Hence, we also have divided the data into a training set and validation set separately which also helps in monitoring the data."
      ],
      "metadata": {
        "id": "803nXeUux_j5"
      }
    },
    {
      "cell_type": "code",
      "source": [
        "np.random.seed(0)\n",
        "num_data = len(Y)\n",
        "num_train = int(0.75 * num_data)\n",
        "index = np.random.permutation(range(num_data))\n",
        "feats_train = features[index[:num_train]]\n",
        "Y_train = Y[index[:num_train]]\n",
        "feats_val = features[index[num_train:]]\n",
        "Y_val = Y[index[num_train:]]\n",
        "\n",
        "# We need these later for plotting\n",
        "X_train = X[index[:num_train]]\n",
        "X_val = X[index[num_train:]]"
      ],
      "metadata": {
        "id": "hivxfhC1JXcx"
      },
      "execution_count": null,
      "outputs": []
    },
    {
      "cell_type": "markdown",
      "source": [
        "**Optimization**"
      ],
      "metadata": {
        "id": "CCeJfYinyn0N"
      }
    },
    {
      "cell_type": "markdown",
      "source": [
        "**#8** This step in the code is included to Inititalize the variables. Here we again asign a random variable to initialize the weight.\n",
        "\n",
        "**#9** These lines of code are for training the variational optimizer. Here again Nesterov Moment optimizer is used to training.\n",
        "\n",
        "**#10**  This is done to train the variational classifier. It is done by updating the weights by one optimizer step and computing predictions on training and validation set.\n",
        "\n",
        "**#11** Here we compute accuracy on train and validation set."
      ],
      "metadata": {
        "id": "hi625oR1yrCm"
      }
    },
    {
      "cell_type": "code",
      "source": [
        "num_qubits = 2                             #8\n",
        "num_layers = 6\n",
        "\n",
        "weights_init = 0.01 * np.random.randn(num_layers, num_qubits, 3, requires_grad=True)\n",
        "bias_init = np.array(0.0, requires_grad=True)\n",
        "\n",
        "opt = NesterovMomentumOptimizer(0.01)                          #9\n",
        "batch_size = 5\n",
        "\n",
        "weights = weights_init                                         #10\n",
        "bias = bias_init\n",
        "for it in range(60):\n",
        "    batch_index = np.random.randint(0, num_train, (batch_size,))\n",
        "    feats_train_batch = feats_train[batch_index]\n",
        "    Y_train_batch = Y_train[batch_index]\n",
        "    weights, bias, _, _ = opt.step(cost, weights, bias, feats_train_batch, Y_train_batch)\n",
        "\n",
        "    predictions_train = np.sign(variational_classifier(weights, bias, feats_train.T))\n",
        "    predictions_val = np.sign(variational_classifier(weights, bias, feats_val.T))\n",
        "\n",
        "\n",
        "    acc_train = accuracy(Y_train, predictions_train)                            #11\n",
        "    acc_val = accuracy(Y_val, predictions_val)\n",
        "\n",
        "    if (it + 1) % 2 == 0:\n",
        "        _cost = cost(weights, bias, features, Y)\n",
        "        print(\n",
        "            f\"Iter: {it + 1:5d} | Cost: {_cost:0.7f} | \"\n",
        "            f\"Acc train: {acc_train:0.7f} | Acc validation: {acc_val:0.7f}\"\n",
        "        )\n"
      ],
      "metadata": {
        "colab": {
          "base_uri": "https://localhost:8080/"
        },
        "id": "iP-EqBjWJYLt",
        "outputId": "2f2d941c-d163-4795-f744-5567291b7e2d"
      },
      "execution_count": null,
      "outputs": [
        {
          "output_type": "stream",
          "name": "stdout",
          "text": [
            "Iter:     2 | Cost: 1.6754956 | Acc train: 0.4729730 | Acc validation: 0.5600000\n",
            "Iter:     4 | Cost: 1.2150141 | Acc train: 0.4864865 | Acc validation: 0.5600000\n",
            "Iter:     6 | Cost: 0.9753521 | Acc train: 0.5000000 | Acc validation: 0.6800000\n",
            "Iter:     8 | Cost: 0.9635075 | Acc train: 0.6216216 | Acc validation: 0.6400000\n",
            "Iter:    10 | Cost: 0.9524853 | Acc train: 0.6351351 | Acc validation: 0.6400000\n",
            "Iter:    12 | Cost: 0.9544315 | Acc train: 0.4729730 | Acc validation: 0.6000000\n",
            "Iter:    14 | Cost: 1.0563986 | Acc train: 0.4864865 | Acc validation: 0.5600000\n",
            "Iter:    16 | Cost: 1.0992387 | Acc train: 0.4864865 | Acc validation: 0.5600000\n",
            "Iter:    18 | Cost: 1.0174890 | Acc train: 0.4729730 | Acc validation: 0.5600000\n",
            "Iter:    20 | Cost: 0.9134476 | Acc train: 0.5405405 | Acc validation: 0.6800000\n",
            "Iter:    22 | Cost: 0.8519582 | Acc train: 0.6486486 | Acc validation: 0.6400000\n",
            "Iter:    24 | Cost: 0.8393299 | Acc train: 0.5675676 | Acc validation: 0.5200000\n",
            "Iter:    26 | Cost: 0.7993690 | Acc train: 0.5945946 | Acc validation: 0.5600000\n",
            "Iter:    28 | Cost: 0.7680748 | Acc train: 0.5675676 | Acc validation: 0.5200000\n",
            "Iter:    30 | Cost: 0.7122320 | Acc train: 0.6216216 | Acc validation: 0.6000000\n",
            "Iter:    32 | Cost: 0.6241185 | Acc train: 0.7297297 | Acc validation: 0.8000000\n",
            "Iter:    34 | Cost: 0.5347556 | Acc train: 0.8243243 | Acc validation: 0.8400000\n",
            "Iter:    36 | Cost: 0.4653632 | Acc train: 0.8918919 | Acc validation: 0.8400000\n",
            "Iter:    38 | Cost: 0.3976744 | Acc train: 0.9054054 | Acc validation: 1.0000000\n",
            "Iter:    40 | Cost: 0.3501554 | Acc train: 0.9594595 | Acc validation: 1.0000000\n",
            "Iter:    42 | Cost: 0.3071529 | Acc train: 0.9864865 | Acc validation: 1.0000000\n",
            "Iter:    44 | Cost: 0.2806369 | Acc train: 1.0000000 | Acc validation: 1.0000000\n",
            "Iter:    46 | Cost: 0.2631026 | Acc train: 1.0000000 | Acc validation: 1.0000000\n",
            "Iter:    48 | Cost: 0.2536437 | Acc train: 1.0000000 | Acc validation: 1.0000000\n",
            "Iter:    50 | Cost: 0.2483576 | Acc train: 0.9864865 | Acc validation: 1.0000000\n",
            "Iter:    52 | Cost: 0.2369911 | Acc train: 1.0000000 | Acc validation: 1.0000000\n",
            "Iter:    54 | Cost: 0.2383453 | Acc train: 1.0000000 | Acc validation: 1.0000000\n",
            "Iter:    56 | Cost: 0.2436897 | Acc train: 1.0000000 | Acc validation: 1.0000000\n",
            "Iter:    58 | Cost: 0.2300290 | Acc train: 1.0000000 | Acc validation: 1.0000000\n",
            "Iter:    60 | Cost: 0.2248138 | Acc train: 1.0000000 | Acc validation: 1.0000000\n"
          ]
        }
      ]
    },
    {
      "cell_type": "markdown",
      "source": [
        "****\n",
        "This block of code is for plotting a model onto a graph to see the projection as well as accuracy, etc. of our model in a graphical format."
      ],
      "metadata": {
        "id": "IeQCeke01LxO"
      }
    },
    {
      "cell_type": "code",
      "source": [
        "plt.figure()\n",
        "cm = plt.cm.RdBu\n",
        "\n",
        "# make data for decision regions\n",
        "xx, yy = np.meshgrid(np.linspace(0.0, 1.5, 30), np.linspace(0.0, 1.5, 30))\n",
        "X_grid = [np.array([x, y]) for x, y in zip(xx.flatten(), yy.flatten())]\n",
        "\n",
        "# preprocess grid points like data inputs above\n",
        "padding = 0.1 * np.ones((len(X_grid), 2))\n",
        "X_grid = np.c_[X_grid, padding]  # pad each input\n",
        "normalization = np.sqrt(np.sum(X_grid**2, -1))\n",
        "X_grid = (X_grid.T / normalization).T  # normalize each input\n",
        "features_grid = np.array([get_angles(x) for x in X_grid])  # angles are new features\n",
        "predictions_grid = variational_classifier(weights, bias, features_grid.T)\n",
        "Z = np.reshape(predictions_grid, xx.shape)\n",
        "\n",
        "# plot decision regions\n",
        "levels = np.arange(-1, 1.1, 0.1)\n",
        "cnt = plt.contourf(xx, yy, Z, levels=levels, cmap=cm, alpha=0.8, extend=\"both\")\n",
        "plt.contour(xx, yy, Z, levels=[0.0], colors=(\"black\",), linestyles=(\"--\",), linewidths=(0.8,))\n",
        "plt.colorbar(cnt, ticks=[-1, 0, 1])\n",
        "\n",
        "# plot data\n",
        "for color, label in zip([\"b\", \"r\"], [1, -1]):\n",
        "    plot_x = X_train[:, 0][Y_train == label]\n",
        "    plot_y = X_train[:, 1][Y_train == label]\n",
        "    plt.scatter(plot_x, plot_y, c=color, marker=\"o\", ec=\"k\", label=f\"class {label} train\")\n",
        "    plot_x = (X_val[:, 0][Y_val == label],)\n",
        "    plot_y = (X_val[:, 1][Y_val == label],)\n",
        "    plt.scatter(plot_x, plot_y, c=color, marker=\"^\", ec=\"k\", label=f\"class {label} validation\")\n",
        "\n",
        "plt.legend()\n",
        "plt.show()"
      ],
      "metadata": {
        "colab": {
          "base_uri": "https://localhost:8080/",
          "height": 430
        },
        "id": "3qgKpoRjJeip",
        "outputId": "77e452e3-c570-4551-a835-ea5272711e5c"
      },
      "execution_count": null,
      "outputs": [
        {
          "output_type": "display_data",
          "data": {
            "text/plain": [
              "<Figure size 640x480 with 2 Axes>"
            ],
            "image/png": "[encoded data removed]"
          },
          "metadata": {}
        }
      ]
    }
  ]
}